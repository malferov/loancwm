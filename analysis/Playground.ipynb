{
 "cells": [
  {
   "cell_type": "markdown",
   "metadata": {},
   "source": [
    "# Playground"
   ]
  },
  {
   "cell_type": "markdown",
   "metadata": {},
   "source": [
    "Imports"
   ]
  },
  {
   "cell_type": "code",
   "execution_count": 128,
   "metadata": {},
   "outputs": [],
   "source": [
    "%matplotlib inline\n",
    "%config InlineBackend.figure_format = 'png'\n",
    "\n",
    "import sqlite3\n",
    "import pandas as pd\n",
    "from pylab import *\n",
    "import seaborn as sns"
   ]
  },
  {
   "cell_type": "markdown",
   "metadata": {},
   "source": [
    "Load dataset"
   ]
  },
  {
   "cell_type": "code",
   "execution_count": 140,
   "metadata": {},
   "outputs": [],
   "source": [
    "date_columns = ['deal_date', 'return_date', 'expiration_date', 'report_date']\n",
    "\n",
    "conn = sqlite3.connect(\"../../data/loancwm_2019-03-12.db\")\n",
    "deals = pd.read_sql_query(\"select * from deals;\", conn, parse_dates=date_columns)\n",
    "conn.close()"
   ]
  },
  {
   "cell_type": "code",
   "execution_count": 141,
   "metadata": {},
   "outputs": [
    {
     "name": "stdout",
     "output_type": "stream",
     "text": [
      "<class 'pandas.core.frame.DataFrame'>\n",
      "RangeIndex: 4612 entries, 0 to 4611\n",
      "Data columns (total 21 columns):\n",
      "tender_num             4612 non-null int64\n",
      "deal_date              4612 non-null datetime64[ns]\n",
      "report_date            4612 non-null datetime64[ns]\n",
      "period                 4612 non-null int64\n",
      "credit_amount          4612 non-null float64\n",
      "return_amount          4612 non-null float64\n",
      "rate                   4612 non-null float64\n",
      "outstanding            4612 non-null float64\n",
      "return_date            4612 non-null datetime64[ns]\n",
      "expiration_date        4612 non-null datetime64[ns]\n",
      "delinq                 4612 non-null int64\n",
      "rating                 4612 non-null int64\n",
      "business_level         4612 non-null int64\n",
      "debt                   4612 non-null float64\n",
      "credit_amount_total    4612 non-null float64\n",
      "model                  4612 non-null object\n",
      "reg_country_id         4612 non-null int64\n",
      "reg_country            4612 non-null object\n",
      "wmid                   4612 non-null object\n",
      "loan_count             4612 non-null int64\n",
      "loan_count_total       4612 non-null int64\n",
      "dtypes: datetime64[ns](4), float64(6), int64(8), object(3)\n",
      "memory usage: 756.7+ KB\n"
     ]
    }
   ],
   "source": [
    "deals.info()"
   ]
  },
  {
   "cell_type": "code",
   "execution_count": 73,
   "metadata": {},
   "outputs": [],
   "source": [
    "# deals.head()"
   ]
  },
  {
   "cell_type": "markdown",
   "metadata": {},
   "source": [
    "Filter out open positions"
   ]
  },
  {
   "cell_type": "code",
   "execution_count": 147,
   "metadata": {},
   "outputs": [],
   "source": [
    "open_positions = (deals['outstanding'] > 0) & (deals['report_date'] < deals['expiration_date'] + pd.DateOffset(years=1))\n",
    "deals = deals[~open_positions]"
   ]
  },
  {
   "cell_type": "markdown",
   "metadata": {},
   "source": [
    "Let's extract year and month from the datetime columns"
   ]
  },
  {
   "cell_type": "code",
   "execution_count": 142,
   "metadata": {},
   "outputs": [],
   "source": [
    "for date_column in date_columns:\n",
    "    deals[date_column + '_year'] = deals.apply(lambda row: row[date_column].year, axis=1)\n",
    "    deals[date_column + '_month'] = deals.apply(lambda row: row[date_column].month, axis=1)\n",
    "#    deals[date_column + '_m'] = deals.apply(lambda row: row[date_column].year * 100 + row[date_column].month, axis=1)"
   ]
  },
  {
   "cell_type": "code",
   "execution_count": 143,
   "metadata": {},
   "outputs": [],
   "source": [
    "features = [\n",
    "    'rate',\n",
    "    'credit_amount_total',\n",
    "    'credit_amount',\n",
    "    'deal_date_month',\n",
    "    'business_level',\n",
    "    'loan_count',\n",
    "    'return_amount',\n",
    "    'period',\n",
    "    'expiration_date_month'\n",
    "]"
   ]
  },
  {
   "cell_type": "code",
   "execution_count": 145,
   "metadata": {},
   "outputs": [
    {
     "name": "stdout",
     "output_type": "stream",
     "text": [
      "Tree\n",
      "0.6269289951206121\n",
      "0.6272609838728929\n",
      "KNN\n",
      "0.165602878576664\n",
      "0.1658207864120116\n",
      "Fitting 5 folds for each of 50 candidates, totalling 250 fits\n"
     ]
    },
    {
     "name": "stderr",
     "output_type": "stream",
     "text": [
      "[Parallel(n_jobs=-1)]: Using backend LokyBackend with 4 concurrent workers.\n",
      "[Parallel(n_jobs=-1)]: Done 115 tasks      | elapsed:    3.8s\n",
      "[Parallel(n_jobs=-1)]: Done 250 out of 250 | elapsed:    4.3s finished\n",
      "/Users/demon/anaconda3/lib/python3.7/site-packages/sklearn/model_selection/_search.py:841: DeprecationWarning: The default of the `iid` parameter will change from True to False in version 0.22 and will be removed in 0.24. This will change numeric results when test-set sizes are unequal.\n",
      "  DeprecationWarning)\n",
      "[Parallel(n_jobs=-1)]: Using backend LokyBackend with 4 concurrent workers.\n"
     ]
    },
    {
     "name": "stdout",
     "output_type": "stream",
     "text": [
      "Tree Grid\n",
      "{'max_depth': 5, 'max_features': 4}\n",
      "0.5114118662928645\n",
      "0.5997337007701253\n",
      "Fitting 5 folds for each of 9 candidates, totalling 45 fits\n"
     ]
    },
    {
     "name": "stderr",
     "output_type": "stream",
     "text": [
      "[Parallel(n_jobs=-1)]: Done  45 out of  45 | elapsed:    3.0s finished\n",
      "/Users/demon/anaconda3/lib/python3.7/site-packages/sklearn/preprocessing/data.py:625: DataConversionWarning: Data with input dtype int64, float64 were all converted to float64 by StandardScaler.\n",
      "  return self.partial_fit(X, y)\n",
      "/Users/demon/anaconda3/lib/python3.7/site-packages/sklearn/base.py:465: DataConversionWarning: Data with input dtype int64, float64 were all converted to float64 by StandardScaler.\n",
      "  return self.fit(X, y, **fit_params).transform(X)\n",
      "/Users/demon/anaconda3/lib/python3.7/site-packages/sklearn/pipeline.py:331: DataConversionWarning: Data with input dtype int64, float64 were all converted to float64 by StandardScaler.\n",
      "  Xt = transform.transform(Xt)\n"
     ]
    },
    {
     "name": "stdout",
     "output_type": "stream",
     "text": [
      "KNN Grid\n",
      "{'knn__n_neighbors': 6}\n",
      "0.36620755194215326\n",
      "0.4176348839817341\n",
      "Forest\n",
      "0.5974781180771315\n",
      "Fitting 5 folds for each of 50 candidates, totalling 250 fits\n"
     ]
    },
    {
     "name": "stderr",
     "output_type": "stream",
     "text": [
      "[Parallel(n_jobs=-1)]: Using backend LokyBackend with 4 concurrent workers.\n",
      "[Parallel(n_jobs=-1)]: Done  42 tasks      | elapsed:    4.7s\n",
      "[Parallel(n_jobs=-1)]: Done 192 tasks      | elapsed:   31.9s\n",
      "[Parallel(n_jobs=-1)]: Done 250 out of 250 | elapsed:   46.1s finished\n"
     ]
    },
    {
     "name": "stdout",
     "output_type": "stream",
     "text": [
      "Forest Grid\n",
      "{'max_depth': 9, 'max_features': 5}\n",
      "0.6249086604160694\n",
      "0.6571744522283605\n"
     ]
    }
   ],
   "source": [
    "from sklearn.tree import DecisionTreeRegressor\n",
    "from sklearn.ensemble import RandomForestRegressor\n",
    "from sklearn.neighbors import KNeighborsRegressor\n",
    "from sklearn import svm\n",
    "from sklearn.model_selection import cross_val_score, GridSearchCV\n",
    "from sklearn.model_selection import ShuffleSplit\n",
    "from sklearn.model_selection import train_test_split, StratifiedKFold\n",
    "from sklearn.metrics import accuracy_score, mean_squared_error, r2_score, explained_variance_score\n",
    "from sklearn.pipeline import Pipeline\n",
    "from sklearn.preprocessing import StandardScaler\n",
    "\n",
    "y = deals['delinq']\n",
    "X_train, X_holdout, y_train, y_holdout = train_test_split(deals[features], y, test_size=0.3, random_state=17)\n",
    "\n",
    "from sklearn.neighbors import KNeighborsClassifier\n",
    "\n",
    "tree = DecisionTreeRegressor(max_depth=5, random_state=17)\n",
    "knn = KNeighborsRegressor(n_neighbors=10)\n",
    "\n",
    "# %%time\n",
    "tree.fit(X_train, y_train)\n",
    "tree_pred = tree.predict(X_holdout)\n",
    "print(\"Tree\")\n",
    "print(r2_score(y_holdout, tree_pred))\n",
    "print(explained_variance_score(y_holdout.values, tree_pred))\n",
    "\n",
    "knn.fit(X_train, y_train)\n",
    "knn_pred = knn.predict(X_holdout)\n",
    "print(\"KNN\")\n",
    "print(r2_score(y_holdout, knn_pred))\n",
    "print(explained_variance_score(y_holdout.values, knn_pred))\n",
    "\n",
    "tree_params = {'max_depth': range(1,11), 'max_features': range(4, len(features))}\n",
    "\n",
    "tree_grid = GridSearchCV(tree, tree_params, cv=5, n_jobs=-1, verbose=True)\n",
    "tree_grid.fit(X_train, y_train)\n",
    "\n",
    "print(\"Tree Grid\")\n",
    "print(tree_grid.best_params_)\n",
    "print(tree_grid.best_score_)\n",
    "print(explained_variance_score(y_holdout.values, tree_grid.predict(X_holdout)))\n",
    "\n",
    "knn_pipe = Pipeline([('scaler', StandardScaler()), ('knn', KNeighborsRegressor(n_jobs=-1))])\n",
    "knn_params = {'knn__n_neighbors': range(1, 10)}\n",
    "knn_grid = GridSearchCV(knn_pipe, knn_params, cv=5, n_jobs=-1, verbose=True)\n",
    "knn_grid.fit(X_train, y_train)\n",
    "print(\"KNN Grid\")\n",
    "print(knn_grid.best_params_)\n",
    "print(knn_grid.best_score_)\n",
    "print(explained_variance_score(y_holdout.values, knn_grid.predict(X_holdout)))\n",
    "\n",
    "forest = RandomForestRegressor(n_estimators=100, n_jobs=-1, random_state=17)\n",
    "forest_score = cross_val_score(forest, X_train, y_train, cv=5)\n",
    "print(\"Forest\")\n",
    "print(np.mean(forest_score))\n",
    "\n",
    "forest_params = {'max_depth': range(1,11), 'max_features': range(4, len(features))}\n",
    "forest_grid = GridSearchCV(forest, forest_params, cv=5, n_jobs=-1, verbose=True)\n",
    "forest_grid.fit(X_train, y_train)\n",
    "\n",
    "print(\"Forest Grid\")\n",
    "print(forest_grid.best_params_)\n",
    "print(forest_grid.best_score_)\n",
    "print(explained_variance_score(y_holdout.values, forest_grid.predict(X_holdout)))"
   ]
  },
  {
   "cell_type": "code",
   "execution_count": 146,
   "metadata": {
    "scrolled": true
   },
   "outputs": [],
   "source": [
    "from sklearn.tree import export_graphviz\n",
    "\n",
    "export_graphviz(tree_grid.best_estimator_, feature_names=features, out_file='img/delinq_tree.dot', filled=True)\n",
    "!dot -Tpng img/delinq_tree.dot -o img/delinq_tree.png"
   ]
  },
  {
   "cell_type": "markdown",
   "metadata": {},
   "source": [
    "<img src='img/delinq_tree.png'>"
   ]
  }
 ],
 "metadata": {
  "kernelspec": {
   "display_name": "Python 3",
   "language": "python",
   "name": "python3"
  },
  "language_info": {
   "codemirror_mode": {
    "name": "ipython",
    "version": 3
   },
   "file_extension": ".py",
   "mimetype": "text/x-python",
   "name": "python",
   "nbconvert_exporter": "python",
   "pygments_lexer": "ipython3",
   "version": "3.7.2"
  }
 },
 "nbformat": 4,
 "nbformat_minor": 2
}
