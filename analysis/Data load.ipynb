{
 "cells": [
  {
   "cell_type": "markdown",
   "metadata": {},
   "source": [
    "# Data load and pre-processing"
   ]
  },
  {
   "cell_type": "markdown",
   "metadata": {},
   "source": [
    "Imports"
   ]
  },
  {
   "cell_type": "code",
   "execution_count": 2,
   "metadata": {},
   "outputs": [],
   "source": [
    "%matplotlib inline\n",
    "%config InlineBackend.figure_format = 'png'\n",
    "\n",
    "import datetime\n",
    "import sqlite3\n",
    "import pandas as pd\n",
    "# import matplotlib as mat\n",
    "# from pylab import *\n",
    "# import seaborn as sns\n",
    "from sklearn.preprocessing import LabelEncoder"
   ]
  },
  {
   "cell_type": "markdown",
   "metadata": {},
   "source": [
    "## Useful functions"
   ]
  },
  {
   "cell_type": "code",
   "execution_count": 3,
   "metadata": {},
   "outputs": [],
   "source": [
    "def beatiful_coef(coefs, feature_names):\n",
    "    return pd.DataFrame(coefs, index=feature_names, columns=['coef']).sort_values('coef', ascending=False)\n",
    "\n",
    "def purpose_category(purpose):\n",
    "    if purpose == '':\n",
    "       return 'Empty'\n",
    "    \n",
    "    categories = [\n",
    "        ('Business', ['бизнес', 'оборот', 'проект', 'реклам']),\n",
    "        ('Perecredit', ['перекред', 'рекредит', 'рефинан', 'займ']),\n",
    "        ('Personal', ['личн', 'нуж', 'расхо']),\n",
    "        ('Salary', ['зарпл', 'з/п', 'зп']),\n",
    "        ('Cryptocurrency', ['криптовал']),\n",
    "        ('Purchase', ['оплат', 'закуп', 'покуп']),\n",
    "    ]\n",
    "    \n",
    "    for rule in categories:\n",
    "        category = rule[0]\n",
    "        terms = rule[1]\n",
    "        for term in terms:\n",
    "           if term in purpose.lower():\n",
    "                return category\n",
    "    return 'Other'\n",
    "\n",
    "def connotation(text):\n",
    "    terms = ['много', 'всегда', 'лет', 'гарант', 'постоя', 'ни одн', 'просроч', 'стабил', '!', 'возвращ', 'давно', 'идеал']\n",
    "    for term in terms:\n",
    "        if term in text:\n",
    "            return True\n",
    "    return False\n",
    "\n",
    "def score(row):\n",
    "    # delinq_in_periods = (row['period'] + row['delinq']) / row['period']\n",
    "    # delinq_in_periods = 1.0 if delinq_in_periods <= 0 else delinq_in_periods\n",
    "    # score = 1 / delinq_in_periods\n",
    "    score = row['period'] if row['period'] + row['delinq'] == 0 else row['period'] / (row['period'] + row['delinq'])\n",
    "    return score if score < 1 else 1"
   ]
  },
  {
   "cell_type": "markdown",
   "metadata": {},
   "source": [
    "## Load data"
   ]
  },
  {
   "cell_type": "code",
   "execution_count": 4,
   "metadata": {},
   "outputs": [],
   "source": [
    "date_columns = ['deal_date', 'return_date', 'expiration_date', 'report_date']\n",
    "\n",
    "conn = sqlite3.connect(\"../../data/loancwm_2019-03-12.db\")\n",
    "deals = pd.read_sql_query(\"select * from deals;\", conn, parse_dates=date_columns)\n",
    "conn.close()\n",
    "\n",
    "# deals.info()"
   ]
  },
  {
   "cell_type": "markdown",
   "metadata": {},
   "source": [
    "## Processing"
   ]
  },
  {
   "cell_type": "markdown",
   "metadata": {},
   "source": [
    "### Filter out open positions"
   ]
  },
  {
   "cell_type": "code",
   "execution_count": 5,
   "metadata": {},
   "outputs": [],
   "source": [
    "open_positions = \\\n",
    "    (deals['outstanding'] > 0) & \\\n",
    "    (deals['report_date'] < deals['expiration_date']) # + pd.DateOffset(years=1))\n",
    "\n",
    "deals = deals[~open_positions].copy()"
   ]
  },
  {
   "cell_type": "markdown",
   "metadata": {},
   "source": [
    "### Fixing data types"
   ]
  },
  {
   "cell_type": "code",
   "execution_count": 6,
   "metadata": {},
   "outputs": [],
   "source": [
    "# Converting string value of pass_date to datetime type\n",
    "deals['pass_date'] = pd.to_datetime(deals['pass_date'], format='%m/%d/%Y')\n",
    "date_columns += ['pass_date']\n",
    "\n",
    "deals['rating'] = deals['rating'] / 100\n",
    "\n",
    "# Replace the default field text with empty string \n",
    "deals['purpose'] = deals.apply(lambda row: '' if row['purpose'].startswith('опишит') else row['purpose'], axis=1)\n",
    "deals['guarantee'] = deals.apply(lambda row: '' if row['guarantee'].startswith('опишит') else row['guarantee'], axis=1)\n",
    "deals['address'] = deals.apply(lambda row: '' if row['address'].startswith('представьтесь') else row['address'], axis=1)\n",
    "deals['recommend'] = deals.apply(lambda row: '' if row['recommend'].startswith('есть ли у') else row['recommend'], axis=1)"
   ]
  },
  {
   "cell_type": "markdown",
   "metadata": {},
   "source": [
    "### Adding new features"
   ]
  },
  {
   "cell_type": "code",
   "execution_count": 7,
   "metadata": {},
   "outputs": [],
   "source": [
    "# Mapping the city name to city number code\n",
    "lb_make = LabelEncoder()\n",
    "deals['reg_city_code'] = lb_make.fit_transform(deals[\"reg_city\"])\n",
    "\n",
    "# Indicates that a loaner left the fields 'purpose', 'guarantee', 'address', 'recommend' empty\n",
    "deals['empty_info'] = deals.apply(lambda row: 1 if (row['purpose'] == '') & (row['guarantee'] == '') & (row['address'] == '') & (row['recommend'] == '') else 0, axis=1)\n",
    "\n",
    "# Classify the purpose into categories and mapping them to number codes\n",
    "deals['purpose_category'] = deals.apply(lambda row: purpose_category(row['purpose']), axis=1)\n",
    "lb_make = LabelEncoder()\n",
    "deals['purpose_code'] = lb_make.fit_transform(deals[\"purpose_category\"])\n",
    "\n",
    "# deals['connotation'] = deals.apply(lambda row: connotation(row['purpose']) | connotation(row['guarantee']) | connotation(row['address']) | connotation(row['recommend']), axis=1)\n",
    "# deals['connotation'] = deals.apply(lambda row: 1 if row['connotation'] else 0, axis=1)\n",
    "\n",
    "# Extracting year and month from the datetime columns\n",
    "for date_column in date_columns:\n",
    "    deals[date_column + '_year'] = deals.apply(lambda row: row[date_column].year, axis=1)\n",
    "    deals[date_column + '_month'] = deals.apply(lambda row: row[date_column].month, axis=1)\n",
    "#    deals[date_column + '_m'] = deals.apply(lambda row: row[date_column].year * 100 + row[date_column].month, axis=1)"
   ]
  },
  {
   "cell_type": "code",
   "execution_count": 55,
   "metadata": {},
   "outputs": [
    {
     "data": {
      "text/plain": [
       "purpose_category\n",
       "Business          1358\n",
       "Cryptocurrency       3\n",
       "Empty              998\n",
       "Other              352\n",
       "Perecredit         275\n",
       "Personal          1174\n",
       "Purchase           305\n",
       "Salary              33\n",
       "Name: purpose, dtype: int64"
      ]
     },
     "execution_count": 55,
     "metadata": {},
     "output_type": "execute_result"
    }
   ],
   "source": [
    "deals.groupby('purpose_category')['purpose'].count()"
   ]
  },
  {
   "cell_type": "markdown",
   "metadata": {},
   "source": [
    "### Labeling"
   ]
  },
  {
   "cell_type": "code",
   "execution_count": 8,
   "metadata": {},
   "outputs": [],
   "source": [
    "deals['score'] = deals.apply(lambda row: score(row), axis=1)\n",
    "deals['give'] = deals.apply(lambda row: (row['outstanding'] == 0) & (row['score'] >= 0.2), axis=1)\n",
    "# deals[['period', 'delinq', 'outstanding', 'score', 'give']]"
   ]
  },
  {
   "cell_type": "code",
   "execution_count": 15,
   "metadata": {},
   "outputs": [
    {
     "name": "stdout",
     "output_type": "stream",
     "text": [
      "give\n",
      "False     265\n",
      "True     4233\n",
      "Name: give, dtype: int64\n",
      "0.93739664540515\n",
      "265 4233\n"
     ]
    }
   ],
   "source": [
    "counts = deals.groupby('give')['give'].count()\n",
    "print(counts)\n",
    "print(1 - counts[0] / counts[1])\n",
    "print(counts[0], counts[1])\n"
   ]
  },
  {
   "cell_type": "code",
   "execution_count": 36,
   "metadata": {},
   "outputs": [],
   "source": [
    "#for a in deals[deals['address'] != ''][['address']].iterrows():\n",
    "#    print(a[1][0] + '\\n')"
   ]
  },
  {
   "cell_type": "code",
   "execution_count": 46,
   "metadata": {},
   "outputs": [
    {
     "name": "stdout",
     "output_type": "stream",
     "text": [
      "<class 'pandas.core.frame.DataFrame'>\n",
      "Int64Index: 4498 entries, 0 to 4586\n",
      "Data columns (total 51 columns):\n",
      "tender_num                        4498 non-null int64\n",
      "deal_date                         4498 non-null datetime64[ns]\n",
      "report_date                       4498 non-null datetime64[ns]\n",
      "period                            4498 non-null int64\n",
      "credit_amount                     4498 non-null float64\n",
      "return_amount                     4498 non-null float64\n",
      "rate                              4498 non-null float64\n",
      "outstanding                       4498 non-null float64\n",
      "return_date                       4498 non-null datetime64[ns]\n",
      "expiration_date                   4498 non-null datetime64[ns]\n",
      "tender_credit_amount              4498 non-null float64\n",
      "tender_return_amount              4498 non-null float64\n",
      "tender_interest_rate              4498 non-null float64\n",
      "credit_amount_average             4498 non-null float64\n",
      "credit_amount_to_average_ratio    4498 non-null float64\n",
      "average_repeated_loan_count       4498 non-null float64\n",
      "creditors_count                   4498 non-null int64\n",
      "delinq                            4498 non-null int64\n",
      "rating                            4498 non-null int64\n",
      "business_level                    4498 non-null int64\n",
      "debt                              4498 non-null float64\n",
      "return_rate                       4498 non-null float64\n",
      "return_amount_rate                4498 non-null float64\n",
      "credit_amount_total               4498 non-null float64\n",
      "credit_count_total                4498 non-null float64\n",
      "model                             4498 non-null object\n",
      "reg_country_id                    4498 non-null int64\n",
      "reg_country                       4498 non-null object\n",
      "reg_city                          4498 non-null object\n",
      "pass_date                         4498 non-null datetime64[ns]\n",
      "purpose                           4498 non-null object\n",
      "guarantee                         4498 non-null object\n",
      "address                           4498 non-null object\n",
      "recommend                         4498 non-null object\n",
      "wmid                              4498 non-null object\n",
      "loan_count                        4498 non-null int64\n",
      "loan_count_total                  4498 non-null int64\n",
      "reg_city_code                     4498 non-null int64\n",
      "empty_info                        4498 non-null int64\n",
      "purpose_category                  4498 non-null object\n",
      "purpose_code                      4498 non-null int64\n",
      "deal_date_year                    4498 non-null int64\n",
      "deal_date_month                   4498 non-null int64\n",
      "return_date_year                  4498 non-null int64\n",
      "return_date_month                 4498 non-null int64\n",
      "expiration_date_year              4498 non-null int64\n",
      "expiration_date_month             4498 non-null int64\n",
      "report_date_year                  4498 non-null int64\n",
      "report_date_month                 4498 non-null int64\n",
      "pass_date_year                    4498 non-null int64\n",
      "pass_date_month                   4498 non-null int64\n",
      "dtypes: datetime64[ns](5), float64(15), int64(22), object(9)\n",
      "memory usage: 1.8+ MB\n"
     ]
    }
   ],
   "source": [
    "deals.info()"
   ]
  }
 ],
 "metadata": {
  "kernelspec": {
   "display_name": "Python 3",
   "language": "python",
   "name": "python3"
  },
  "language_info": {
   "codemirror_mode": {
    "name": "ipython",
    "version": 3
   },
   "file_extension": ".py",
   "mimetype": "text/x-python",
   "name": "python",
   "nbconvert_exporter": "python",
   "pygments_lexer": "ipython3",
   "version": "3.7.2"
  }
 },
 "nbformat": 4,
 "nbformat_minor": 2
}
