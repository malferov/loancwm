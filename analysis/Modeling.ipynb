{
 "cells": [
  {
   "cell_type": "markdown",
   "metadata": {},
   "source": [
    "# Model building and verification"
   ]
  },
  {
   "cell_type": "markdown",
   "metadata": {},
   "source": [
    "#### Useful Links"
   ]
  },
  {
   "cell_type": "markdown",
   "metadata": {},
   "source": [
    "https://www.analyticsvidhya.com/blog/2017/03/imbalanced-classification-problem/"
   ]
  },
  {
   "cell_type": "markdown",
   "metadata": {},
   "source": [
    "### Load and pre-process data"
   ]
  },
  {
   "cell_type": "code",
   "execution_count": 1,
   "metadata": {},
   "outputs": [
    {
     "name": "stdout",
     "output_type": "stream",
     "text": [
      "give\n",
      "False     265\n",
      "True     4233\n",
      "Name: give, dtype: int64\n",
      "0.93739664540515\n",
      "<class 'pandas.core.frame.DataFrame'>\n",
      "Int64Index: 4498 entries, 0 to 4586\n",
      "Data columns (total 53 columns):\n",
      "tender_num                        4498 non-null int64\n",
      "deal_date                         4498 non-null datetime64[ns]\n",
      "report_date                       4498 non-null datetime64[ns]\n",
      "period                            4498 non-null int64\n",
      "credit_amount                     4498 non-null float64\n",
      "return_amount                     4498 non-null float64\n",
      "rate                              4498 non-null float64\n",
      "outstanding                       4498 non-null float64\n",
      "return_date                       4498 non-null datetime64[ns]\n",
      "expiration_date                   4498 non-null datetime64[ns]\n",
      "tender_credit_amount              4498 non-null float64\n",
      "tender_return_amount              4498 non-null float64\n",
      "tender_interest_rate              4498 non-null float64\n",
      "credit_amount_average             4498 non-null float64\n",
      "credit_amount_to_average_ratio    4498 non-null float64\n",
      "average_repeated_loan_count       4498 non-null float64\n",
      "creditors_count                   4498 non-null int64\n",
      "delinq                            4498 non-null int64\n",
      "rating                            4498 non-null float64\n",
      "business_level                    4498 non-null int64\n",
      "debt                              4498 non-null float64\n",
      "return_rate                       4498 non-null float64\n",
      "return_amount_rate                4498 non-null float64\n",
      "credit_amount_total               4498 non-null float64\n",
      "credit_count_total                4498 non-null float64\n",
      "model                             4498 non-null object\n",
      "reg_country_id                    4498 non-null int64\n",
      "reg_country                       4498 non-null object\n",
      "reg_city                          4498 non-null object\n",
      "pass_date                         4498 non-null datetime64[ns]\n",
      "purpose                           4498 non-null object\n",
      "guarantee                         4498 non-null object\n",
      "address                           4498 non-null object\n",
      "recommend                         4498 non-null object\n",
      "wmid                              4498 non-null object\n",
      "loan_count                        4498 non-null int64\n",
      "loan_count_total                  4498 non-null int64\n",
      "reg_city_code                     4498 non-null int64\n",
      "empty_info                        4498 non-null int64\n",
      "purpose_category                  4498 non-null object\n",
      "purpose_code                      4498 non-null int64\n",
      "deal_date_year                    4498 non-null int64\n",
      "deal_date_month                   4498 non-null int64\n",
      "return_date_year                  4498 non-null int64\n",
      "return_date_month                 4498 non-null int64\n",
      "expiration_date_year              4498 non-null int64\n",
      "expiration_date_month             4498 non-null int64\n",
      "report_date_year                  4498 non-null int64\n",
      "report_date_month                 4498 non-null int64\n",
      "pass_date_year                    4498 non-null int64\n",
      "pass_date_month                   4498 non-null int64\n",
      "score                             4498 non-null float64\n",
      "give                              4498 non-null bool\n",
      "dtypes: bool(1), datetime64[ns](5), float64(17), int64(21), object(9)\n",
      "memory usage: 1.8+ MB\n"
     ]
    }
   ],
   "source": [
    "%matplotlib inline\n",
    "%config InlineBackend.figure_format = 'png'\n",
    "\n",
    "%run Data\\ load.ipynb"
   ]
  },
  {
   "cell_type": "markdown",
   "metadata": {},
   "source": [
    "### Imports"
   ]
  },
  {
   "cell_type": "code",
   "execution_count": 91,
   "metadata": {},
   "outputs": [],
   "source": [
    "from sklearn.ensemble import RandomForestRegressor\n",
    "from sklearn.ensemble import GradientBoostingRegressor\n",
    "from sklearn.ensemble import RandomForestClassifier\n",
    "from sklearn.ensemble import GradientBoostingClassifier\n",
    "# from sklearn.model_selection import GridSearchCV\n",
    "from sklearn.utils.multiclass import unique_labels\n",
    "from sklearn.model_selection import ShuffleSplit, KFold, cross_val_score, cross_val_predict, train_test_split\n",
    "from sklearn.metrics import accuracy_score, f1_score, mean_squared_error, r2_score, explained_variance_score, mean_squared_error, confusion_matrix\n",
    "import xgboost as xgb\n",
    "\n",
    "import numpy as np\n",
    "# import pylab as plt\n",
    "from pylab import *\n",
    "import seaborn as sns\n",
    "# import matplotlib as mat"
   ]
  },
  {
   "cell_type": "markdown",
   "metadata": {},
   "source": [
    "### Feature selection"
   ]
  },
  {
   "cell_type": "code",
   "execution_count": 4,
   "metadata": {},
   "outputs": [],
   "source": [
    "features = [\n",
    "    'deal_date_month',\n",
    "    'expiration_date_month',\n",
    "    'period',\n",
    "    'credit_amount',\n",
    "    'credit_amount_total',\n",
    "    'creditors_count',\n",
    "    'purpose_code',\n",
    "    'rate',\n",
    "#    'debt',\n",
    "    'loan_count',\n",
    "    'business_level',\n",
    "    'reg_country_id',\n",
    "    'reg_city_code',\n",
    "    'pass_date_year',\n",
    "    'empty_info',\n",
    "    'return_rate',\n",
    "    'return_amount_rate',\n",
    "    'tender_interest_rate',\n",
    "    'tender_credit_amount',\n",
    "    'credit_amount_average',\n",
    "    'credit_amount_to_average_ratio',\n",
    "    'average_repeated_loan_count',\n",
    "#    'connotation'\n",
    "]\n",
    "#deals[['credit_amount_total','return_rate', 'return_amount_rate']].head()"
   ]
  },
  {
   "cell_type": "markdown",
   "metadata": {},
   "source": [
    "### Random Forest Regressor for delinquency"
   ]
  },
  {
   "cell_type": "code",
   "execution_count": 5,
   "metadata": {},
   "outputs": [
    {
     "name": "stdout",
     "output_type": "stream",
     "text": [
      "[0.04473169 0.05104044 0.10939765 0.06601332 0.11081394]\n",
      "Accuracy: 0.08 (+/- 0.06)\n",
      "Accuracy on holdout set: 0.04\n"
     ]
    }
   ],
   "source": [
    "y = deals['delinq']\n",
    "X = deals[features]\n",
    "regr = RandomForestRegressor(max_depth=10, random_state=17, n_estimators=100)\n",
    "\n",
    "cv = ShuffleSplit(n_splits=5, test_size=0.3, random_state=17)\n",
    "scores = cross_val_score(regr, X, y, cv=cv)\n",
    "print(scores)\n",
    "print(\"Accuracy: %0.2f (+/- %0.2f)\" % (scores.mean(), scores.std() * 2))\n",
    "# print(scores)\n",
    "\n",
    "X_train, X_holdout, y_train, y_holdout = train_test_split(X, y, test_size=0.3, random_state=17)\n",
    "regr.fit(X_train, y_train)\n",
    "regr_pred = regr.predict(X_holdout)\n",
    "\n",
    "# print(r2_score(y_holdout, regr_pred))\n",
    "print(\"Accuracy on holdout set: %0.2f\" % explained_variance_score(y_holdout.values, regr_pred))"
   ]
  },
  {
   "cell_type": "markdown",
   "metadata": {},
   "source": [
    "Feature impotance"
   ]
  },
  {
   "cell_type": "code",
   "execution_count": 6,
   "metadata": {
    "scrolled": false
   },
   "outputs": [
    {
     "data": {
      "text/html": [
       "<div>\n",
       "<style scoped>\n",
       "    .dataframe tbody tr th:only-of-type {\n",
       "        vertical-align: middle;\n",
       "    }\n",
       "\n",
       "    .dataframe tbody tr th {\n",
       "        vertical-align: top;\n",
       "    }\n",
       "\n",
       "    .dataframe thead th {\n",
       "        text-align: right;\n",
       "    }\n",
       "</style>\n",
       "<table border=\"1\" class=\"dataframe\">\n",
       "  <thead>\n",
       "    <tr style=\"text-align: right;\">\n",
       "      <th></th>\n",
       "      <th>coef</th>\n",
       "    </tr>\n",
       "  </thead>\n",
       "  <tbody>\n",
       "    <tr>\n",
       "      <th>return_amount_rate</th>\n",
       "      <td>0.124677</td>\n",
       "    </tr>\n",
       "    <tr>\n",
       "      <th>credit_amount_total</th>\n",
       "      <td>0.120909</td>\n",
       "    </tr>\n",
       "    <tr>\n",
       "      <th>reg_city_code</th>\n",
       "      <td>0.075177</td>\n",
       "    </tr>\n",
       "    <tr>\n",
       "      <th>creditors_count</th>\n",
       "      <td>0.069291</td>\n",
       "    </tr>\n",
       "    <tr>\n",
       "      <th>tender_credit_amount</th>\n",
       "      <td>0.066357</td>\n",
       "    </tr>\n",
       "    <tr>\n",
       "      <th>credit_amount_average</th>\n",
       "      <td>0.061151</td>\n",
       "    </tr>\n",
       "    <tr>\n",
       "      <th>return_rate</th>\n",
       "      <td>0.060129</td>\n",
       "    </tr>\n",
       "    <tr>\n",
       "      <th>credit_amount_to_average_ratio</th>\n",
       "      <td>0.057619</td>\n",
       "    </tr>\n",
       "    <tr>\n",
       "      <th>average_repeated_loan_count</th>\n",
       "      <td>0.057455</td>\n",
       "    </tr>\n",
       "    <tr>\n",
       "      <th>credit_amount</th>\n",
       "      <td>0.051194</td>\n",
       "    </tr>\n",
       "    <tr>\n",
       "      <th>tender_interest_rate</th>\n",
       "      <td>0.040847</td>\n",
       "    </tr>\n",
       "    <tr>\n",
       "      <th>rate</th>\n",
       "      <td>0.039066</td>\n",
       "    </tr>\n",
       "    <tr>\n",
       "      <th>business_level</th>\n",
       "      <td>0.034051</td>\n",
       "    </tr>\n",
       "    <tr>\n",
       "      <th>period</th>\n",
       "      <td>0.026613</td>\n",
       "    </tr>\n",
       "    <tr>\n",
       "      <th>pass_date_year</th>\n",
       "      <td>0.024852</td>\n",
       "    </tr>\n",
       "    <tr>\n",
       "      <th>expiration_date_month</th>\n",
       "      <td>0.019534</td>\n",
       "    </tr>\n",
       "    <tr>\n",
       "      <th>reg_country_id</th>\n",
       "      <td>0.018031</td>\n",
       "    </tr>\n",
       "    <tr>\n",
       "      <th>deal_date_month</th>\n",
       "      <td>0.016777</td>\n",
       "    </tr>\n",
       "    <tr>\n",
       "      <th>loan_count</th>\n",
       "      <td>0.016039</td>\n",
       "    </tr>\n",
       "    <tr>\n",
       "      <th>purpose_code</th>\n",
       "      <td>0.014021</td>\n",
       "    </tr>\n",
       "    <tr>\n",
       "      <th>empty_info</th>\n",
       "      <td>0.006208</td>\n",
       "    </tr>\n",
       "  </tbody>\n",
       "</table>\n",
       "</div>"
      ],
      "text/plain": [
       "                                    coef\n",
       "return_amount_rate              0.124677\n",
       "credit_amount_total             0.120909\n",
       "reg_city_code                   0.075177\n",
       "creditors_count                 0.069291\n",
       "tender_credit_amount            0.066357\n",
       "credit_amount_average           0.061151\n",
       "return_rate                     0.060129\n",
       "credit_amount_to_average_ratio  0.057619\n",
       "average_repeated_loan_count     0.057455\n",
       "credit_amount                   0.051194\n",
       "tender_interest_rate            0.040847\n",
       "rate                            0.039066\n",
       "business_level                  0.034051\n",
       "period                          0.026613\n",
       "pass_date_year                  0.024852\n",
       "expiration_date_month           0.019534\n",
       "reg_country_id                  0.018031\n",
       "deal_date_month                 0.016777\n",
       "loan_count                      0.016039\n",
       "purpose_code                    0.014021\n",
       "empty_info                      0.006208"
      ]
     },
     "execution_count": 6,
     "metadata": {},
     "output_type": "execute_result"
    }
   ],
   "source": [
    "# regr.fit(X, y)\n",
    "beatiful_coef(regr.feature_importances_, features)"
   ]
  },
  {
   "cell_type": "markdown",
   "metadata": {},
   "source": [
    "### Gradient Boost Regressor for delinquency"
   ]
  },
  {
   "cell_type": "code",
   "execution_count": 7,
   "metadata": {},
   "outputs": [
    {
     "name": "stdout",
     "output_type": "stream",
     "text": [
      "[0.01956981 0.05692242 0.03758126 0.03097813 0.10496608]\n",
      "Accuracy: 0.05 (+/- 0.06)\n",
      "Accuracy on holdout set: 0.02\n"
     ]
    }
   ],
   "source": [
    "y = deals['delinq']\n",
    "X = deals[features]\n",
    "\n",
    "gbtree = GradientBoostingRegressor(n_estimators=100, subsample=0.5, random_state=17)\n",
    "\n",
    "cv = ShuffleSplit(n_splits=5, test_size=0.3, random_state=17)\n",
    "scores = cross_val_score(gbtree, X, y, cv=cv)\n",
    "print(scores)\n",
    "print(\"Accuracy: %0.2f (+/- %0.2f)\" % (scores.mean(), scores.std() * 2))\n",
    "\n",
    "X_train, X_holdout, y_train, y_holdout = train_test_split(X, y, test_size=0.3, random_state=17)\n",
    "gbtree.fit(X_train, y_train)\n",
    "gbtree_pred = gbtree.predict(X_holdout)\n",
    "\n",
    "# print(r2_score(y_holdout, regr_pred))\n",
    "print(\"Accuracy on holdout set: %0.2f\" % explained_variance_score(y_holdout.values, gbtree_pred))"
   ]
  },
  {
   "cell_type": "code",
   "execution_count": 8,
   "metadata": {},
   "outputs": [
    {
     "data": {
      "text/html": [
       "<div>\n",
       "<style scoped>\n",
       "    .dataframe tbody tr th:only-of-type {\n",
       "        vertical-align: middle;\n",
       "    }\n",
       "\n",
       "    .dataframe tbody tr th {\n",
       "        vertical-align: top;\n",
       "    }\n",
       "\n",
       "    .dataframe thead th {\n",
       "        text-align: right;\n",
       "    }\n",
       "</style>\n",
       "<table border=\"1\" class=\"dataframe\">\n",
       "  <thead>\n",
       "    <tr style=\"text-align: right;\">\n",
       "      <th></th>\n",
       "      <th>coef</th>\n",
       "    </tr>\n",
       "  </thead>\n",
       "  <tbody>\n",
       "    <tr>\n",
       "      <th>return_amount_rate</th>\n",
       "      <td>0.164872</td>\n",
       "    </tr>\n",
       "    <tr>\n",
       "      <th>credit_amount_total</th>\n",
       "      <td>0.137092</td>\n",
       "    </tr>\n",
       "    <tr>\n",
       "      <th>credit_amount_to_average_ratio</th>\n",
       "      <td>0.095448</td>\n",
       "    </tr>\n",
       "    <tr>\n",
       "      <th>return_rate</th>\n",
       "      <td>0.084960</td>\n",
       "    </tr>\n",
       "    <tr>\n",
       "      <th>credit_amount_average</th>\n",
       "      <td>0.077234</td>\n",
       "    </tr>\n",
       "    <tr>\n",
       "      <th>reg_city_code</th>\n",
       "      <td>0.069094</td>\n",
       "    </tr>\n",
       "    <tr>\n",
       "      <th>creditors_count</th>\n",
       "      <td>0.065466</td>\n",
       "    </tr>\n",
       "    <tr>\n",
       "      <th>tender_credit_amount</th>\n",
       "      <td>0.059883</td>\n",
       "    </tr>\n",
       "    <tr>\n",
       "      <th>tender_interest_rate</th>\n",
       "      <td>0.056960</td>\n",
       "    </tr>\n",
       "    <tr>\n",
       "      <th>average_repeated_loan_count</th>\n",
       "      <td>0.035274</td>\n",
       "    </tr>\n",
       "    <tr>\n",
       "      <th>rate</th>\n",
       "      <td>0.031180</td>\n",
       "    </tr>\n",
       "    <tr>\n",
       "      <th>business_level</th>\n",
       "      <td>0.030069</td>\n",
       "    </tr>\n",
       "    <tr>\n",
       "      <th>loan_count</th>\n",
       "      <td>0.021142</td>\n",
       "    </tr>\n",
       "    <tr>\n",
       "      <th>period</th>\n",
       "      <td>0.015943</td>\n",
       "    </tr>\n",
       "    <tr>\n",
       "      <th>pass_date_year</th>\n",
       "      <td>0.013280</td>\n",
       "    </tr>\n",
       "    <tr>\n",
       "      <th>expiration_date_month</th>\n",
       "      <td>0.011955</td>\n",
       "    </tr>\n",
       "    <tr>\n",
       "      <th>credit_amount</th>\n",
       "      <td>0.011499</td>\n",
       "    </tr>\n",
       "    <tr>\n",
       "      <th>reg_country_id</th>\n",
       "      <td>0.008832</td>\n",
       "    </tr>\n",
       "    <tr>\n",
       "      <th>purpose_code</th>\n",
       "      <td>0.006207</td>\n",
       "    </tr>\n",
       "    <tr>\n",
       "      <th>deal_date_month</th>\n",
       "      <td>0.003584</td>\n",
       "    </tr>\n",
       "    <tr>\n",
       "      <th>empty_info</th>\n",
       "      <td>0.000025</td>\n",
       "    </tr>\n",
       "  </tbody>\n",
       "</table>\n",
       "</div>"
      ],
      "text/plain": [
       "                                    coef\n",
       "return_amount_rate              0.164872\n",
       "credit_amount_total             0.137092\n",
       "credit_amount_to_average_ratio  0.095448\n",
       "return_rate                     0.084960\n",
       "credit_amount_average           0.077234\n",
       "reg_city_code                   0.069094\n",
       "creditors_count                 0.065466\n",
       "tender_credit_amount            0.059883\n",
       "tender_interest_rate            0.056960\n",
       "average_repeated_loan_count     0.035274\n",
       "rate                            0.031180\n",
       "business_level                  0.030069\n",
       "loan_count                      0.021142\n",
       "period                          0.015943\n",
       "pass_date_year                  0.013280\n",
       "expiration_date_month           0.011955\n",
       "credit_amount                   0.011499\n",
       "reg_country_id                  0.008832\n",
       "purpose_code                    0.006207\n",
       "deal_date_month                 0.003584\n",
       "empty_info                      0.000025"
      ]
     },
     "execution_count": 8,
     "metadata": {},
     "output_type": "execute_result"
    }
   ],
   "source": [
    "beatiful_coef(gbtree.feature_importances_, features)"
   ]
  },
  {
   "cell_type": "markdown",
   "metadata": {},
   "source": [
    "### Random Forest Classifier for give"
   ]
  },
  {
   "cell_type": "code",
   "execution_count": 15,
   "metadata": {
    "scrolled": false
   },
   "outputs": [
    {
     "name": "stdout",
     "output_type": "stream",
     "text": [
      "[0.9437037  0.94222222 0.94444444 0.94518519 0.92592593]\n",
      "Accuracy: 0.94 (+/- 0.01)\n",
      "Accuracy on holdout set: 0.94\n",
      "[[   7   75]\n",
      " [   1 1267]]\n"
     ]
    },
    {
     "data": {
      "text/plain": [
       "<matplotlib.axes._subplots.AxesSubplot at 0x1a18d78908>"
      ]
     },
     "execution_count": 15,
     "metadata": {},
     "output_type": "execute_result"
    },
    {
     "data": {
      "image/png": "[encoded data removed]",
      "text/plain": [
       "<Figure size 360x360 with 2 Axes>"
      ]
     },
     "metadata": {
      "needs_background": "light"
     },
     "output_type": "display_data"
    }
   ],
   "source": [
    "forest = RandomForestClassifier(n_estimators=100, n_jobs=-1, random_state=17)\n",
    "\n",
    "y = deals['give']\n",
    "X = deals[features]\n",
    "\n",
    "cv = ShuffleSplit(n_splits=5, test_size=0.3, random_state=17)\n",
    "scores = cross_val_score(forest, X, y, cv=cv)\n",
    "print(scores)\n",
    "print(\"Accuracy: %0.2f (+/- %0.2f)\" % (scores.mean(), scores.std() * 2))\n",
    "\n",
    "# X_train, X_holdout, y_train, y_holdout = train_test_split(X, y, test_size=0.3, random_state=17)\n",
    "# forest_params = {\n",
    "#     'max_depth': range(1,11),\n",
    "#     'max_features': range(4,19)\n",
    "# }\n",
    "# forest_grid = GridSearchCV(forest, forest_params, cv=5, n_jobs=-1, verbose=True)\n",
    "# forest_grid.fit(X_train, y_train)\n",
    "# print(forest_grid.best_params_, forest_grid.best_score_)\n",
    "# accuracy_score(y_holdout, forest_grid.predict(X_holdout))\n",
    "\n",
    "X_train, X_holdout, y_train, y_holdout = train_test_split(X, y, test_size=0.3, random_state=17)\n",
    "forest.fit(X_train, y_train)\n",
    "forest_pred = forest.predict(X_holdout)\n",
    "\n",
    "print(\"Accuracy on holdout set: %0.2f\" % accuracy_score(y_holdout, forest_pred))\n",
    "\n",
    "cm = confusion_matrix(y_holdout, forest_pred)\n",
    "print(cm)\n",
    "\n",
    "# deals['give_pred'] = forest_pred.predict(deals[features])\n",
    "# deals[deals['give'] != deals['give_pred']][['outstanding', 'delinq', 'score', 'give', 'give_pred']]\n",
    "\n",
    "labels = ['Not Give', 'Give']\n",
    "df_cm = pd.DataFrame(cm, index = labels, columns = labels)\n",
    "plt.figure(figsize = (5,5))\n",
    "sns.heatmap(df_cm, annot=True, fmt='d')\n"
   ]
  },
  {
   "cell_type": "code",
   "execution_count": 16,
   "metadata": {},
   "outputs": [
    {
     "data": {
      "text/html": [
       "<div>\n",
       "<style scoped>\n",
       "    .dataframe tbody tr th:only-of-type {\n",
       "        vertical-align: middle;\n",
       "    }\n",
       "\n",
       "    .dataframe tbody tr th {\n",
       "        vertical-align: top;\n",
       "    }\n",
       "\n",
       "    .dataframe thead th {\n",
       "        text-align: right;\n",
       "    }\n",
       "</style>\n",
       "<table border=\"1\" class=\"dataframe\">\n",
       "  <thead>\n",
       "    <tr style=\"text-align: right;\">\n",
       "      <th></th>\n",
       "      <th>coef</th>\n",
       "    </tr>\n",
       "  </thead>\n",
       "  <tbody>\n",
       "    <tr>\n",
       "      <th>return_amount_rate</th>\n",
       "      <td>0.080497</td>\n",
       "    </tr>\n",
       "    <tr>\n",
       "      <th>return_rate</th>\n",
       "      <td>0.077008</td>\n",
       "    </tr>\n",
       "    <tr>\n",
       "      <th>credit_amount_total</th>\n",
       "      <td>0.070432</td>\n",
       "    </tr>\n",
       "    <tr>\n",
       "      <th>credit_amount_average</th>\n",
       "      <td>0.065416</td>\n",
       "    </tr>\n",
       "    <tr>\n",
       "      <th>average_repeated_loan_count</th>\n",
       "      <td>0.063942</td>\n",
       "    </tr>\n",
       "    <tr>\n",
       "      <th>business_level</th>\n",
       "      <td>0.059842</td>\n",
       "    </tr>\n",
       "    <tr>\n",
       "      <th>creditors_count</th>\n",
       "      <td>0.058022</td>\n",
       "    </tr>\n",
       "    <tr>\n",
       "      <th>tender_interest_rate</th>\n",
       "      <td>0.057095</td>\n",
       "    </tr>\n",
       "    <tr>\n",
       "      <th>credit_amount</th>\n",
       "      <td>0.054523</td>\n",
       "    </tr>\n",
       "    <tr>\n",
       "      <th>reg_city_code</th>\n",
       "      <td>0.054354</td>\n",
       "    </tr>\n",
       "    <tr>\n",
       "      <th>credit_amount_to_average_ratio</th>\n",
       "      <td>0.053257</td>\n",
       "    </tr>\n",
       "    <tr>\n",
       "      <th>rate</th>\n",
       "      <td>0.045516</td>\n",
       "    </tr>\n",
       "    <tr>\n",
       "      <th>tender_credit_amount</th>\n",
       "      <td>0.045135</td>\n",
       "    </tr>\n",
       "    <tr>\n",
       "      <th>pass_date_year</th>\n",
       "      <td>0.039212</td>\n",
       "    </tr>\n",
       "    <tr>\n",
       "      <th>period</th>\n",
       "      <td>0.032923</td>\n",
       "    </tr>\n",
       "    <tr>\n",
       "      <th>expiration_date_month</th>\n",
       "      <td>0.032476</td>\n",
       "    </tr>\n",
       "    <tr>\n",
       "      <th>deal_date_month</th>\n",
       "      <td>0.031543</td>\n",
       "    </tr>\n",
       "    <tr>\n",
       "      <th>loan_count</th>\n",
       "      <td>0.030307</td>\n",
       "    </tr>\n",
       "    <tr>\n",
       "      <th>purpose_code</th>\n",
       "      <td>0.022101</td>\n",
       "    </tr>\n",
       "    <tr>\n",
       "      <th>reg_country_id</th>\n",
       "      <td>0.020196</td>\n",
       "    </tr>\n",
       "    <tr>\n",
       "      <th>empty_info</th>\n",
       "      <td>0.006201</td>\n",
       "    </tr>\n",
       "  </tbody>\n",
       "</table>\n",
       "</div>"
      ],
      "text/plain": [
       "                                    coef\n",
       "return_amount_rate              0.080497\n",
       "return_rate                     0.077008\n",
       "credit_amount_total             0.070432\n",
       "credit_amount_average           0.065416\n",
       "average_repeated_loan_count     0.063942\n",
       "business_level                  0.059842\n",
       "creditors_count                 0.058022\n",
       "tender_interest_rate            0.057095\n",
       "credit_amount                   0.054523\n",
       "reg_city_code                   0.054354\n",
       "credit_amount_to_average_ratio  0.053257\n",
       "rate                            0.045516\n",
       "tender_credit_amount            0.045135\n",
       "pass_date_year                  0.039212\n",
       "period                          0.032923\n",
       "expiration_date_month           0.032476\n",
       "deal_date_month                 0.031543\n",
       "loan_count                      0.030307\n",
       "purpose_code                    0.022101\n",
       "reg_country_id                  0.020196\n",
       "empty_info                      0.006201"
      ]
     },
     "execution_count": 16,
     "metadata": {},
     "output_type": "execute_result"
    }
   ],
   "source": [
    "beatiful_coef(forest.feature_importances_, features)"
   ]
  },
  {
   "cell_type": "markdown",
   "metadata": {},
   "source": [
    "### XGBoost Classifier for give"
   ]
  },
  {
   "cell_type": "code",
   "execution_count": 46,
   "metadata": {
    "scrolled": false
   },
   "outputs": [
    {
     "name": "stderr",
     "output_type": "stream",
     "text": [
      "/Users/demon/anaconda3/lib/python3.7/site-packages/xgboost/core.py:587: FutureWarning: Series.base is deprecated and will be removed in a future version\n",
      "  if getattr(data, 'base', None) is not None and \\\n"
     ]
    },
    {
     "name": "stdout",
     "output_type": "stream",
     "text": [
      "Train dataset contains 3148 rows and 21 columns\n",
      "Test dataset contains 1350 rows and 21 columns\n",
      "Train mean target: \n",
      "0.9412325\n",
      "\n",
      "Test mean target: \n",
      "0.94074076\n",
      "[0]\ttest-error:0.060741\ttrain-error:0.052414\n",
      "[1]\ttest-error:0.054815\ttrain-error:0.052097\n",
      "[2]\ttest-error:0.054815\ttrain-error:0.052732\n",
      "[3]\ttest-error:0.054815\ttrain-error:0.052414\n",
      "[4]\ttest-error:0.054815\ttrain-error:0.05305\n",
      "[5]\ttest-error:0.056296\ttrain-error:0.051779\n",
      "[6]\ttest-error:0.057037\ttrain-error:0.053367\n",
      "[7]\ttest-error:0.057037\ttrain-error:0.053367\n",
      "[8]\ttest-error:0.057037\ttrain-error:0.053367\n",
      "[9]\ttest-error:0.057037\ttrain-error:0.053367\n",
      "[10]\ttest-error:0.057037\ttrain-error:0.053367\n",
      "[11]\ttest-error:0.055556\ttrain-error:0.051461\n",
      "[12]\ttest-error:0.055556\ttrain-error:0.051779\n",
      "[13]\ttest-error:0.057037\ttrain-error:0.05305\n",
      "[14]\ttest-error:0.057037\ttrain-error:0.05305\n",
      "[15]\ttest-error:0.057037\ttrain-error:0.05305\n",
      "[16]\ttest-error:0.057037\ttrain-error:0.053685\n",
      "[17]\ttest-error:0.057037\ttrain-error:0.054003\n",
      "[18]\ttest-error:0.057778\ttrain-error:0.053685\n",
      "[19]\ttest-error:0.057037\ttrain-error:0.053367\n",
      "[20]\ttest-error:0.057037\ttrain-error:0.053367\n",
      "[21]\ttest-error:0.057037\ttrain-error:0.052097\n",
      "[22]\ttest-error:0.056296\ttrain-error:0.052097\n",
      "[23]\ttest-error:0.055556\ttrain-error:0.052097\n",
      "[24]\ttest-error:0.054074\ttrain-error:0.050826\n",
      "[25]\ttest-error:0.054074\ttrain-error:0.050826\n",
      "[26]\ttest-error:0.054074\ttrain-error:0.050826\n",
      "[27]\ttest-error:0.054074\ttrain-error:0.050191\n",
      "[28]\ttest-error:0.054815\ttrain-error:0.050191\n",
      "[29]\ttest-error:0.054074\ttrain-error:0.050191\n",
      "[30]\ttest-error:0.054074\ttrain-error:0.050191\n",
      "[31]\ttest-error:0.054074\ttrain-error:0.049873\n",
      "[32]\ttest-error:0.054074\ttrain-error:0.049238\n",
      "[33]\ttest-error:0.054074\ttrain-error:0.04892\n",
      "[34]\ttest-error:0.054074\ttrain-error:0.049238\n",
      "[35]\ttest-error:0.054815\ttrain-error:0.049873\n",
      "[36]\ttest-error:0.054815\ttrain-error:0.049555\n",
      "[37]\ttest-error:0.054815\ttrain-error:0.04892\n",
      "[38]\ttest-error:0.054815\ttrain-error:0.049238\n",
      "[39]\ttest-error:0.054815\ttrain-error:0.048602\n",
      "[40]\ttest-error:0.054815\ttrain-error:0.048602\n",
      "[41]\ttest-error:0.055556\ttrain-error:0.048285\n",
      "[42]\ttest-error:0.055556\ttrain-error:0.047967\n",
      "[43]\ttest-error:0.055556\ttrain-error:0.048285\n",
      "[44]\ttest-error:0.055556\ttrain-error:0.048602\n",
      "[45]\ttest-error:0.055556\ttrain-error:0.048285\n",
      "[46]\ttest-error:0.054815\ttrain-error:0.047649\n",
      "[47]\ttest-error:0.054815\ttrain-error:0.047967\n",
      "[48]\ttest-error:0.054815\ttrain-error:0.047332\n",
      "[49]\ttest-error:0.054815\ttrain-error:0.047332\n",
      "[50]\ttest-error:0.054815\ttrain-error:0.047014\n",
      "[51]\ttest-error:0.054815\ttrain-error:0.046379\n",
      "[52]\ttest-error:0.054815\ttrain-error:0.046379\n",
      "[53]\ttest-error:0.054815\ttrain-error:0.047014\n",
      "[54]\ttest-error:0.054815\ttrain-error:0.046696\n",
      "[55]\ttest-error:0.054815\ttrain-error:0.046061\n",
      "[56]\ttest-error:0.054815\ttrain-error:0.045426\n",
      "[57]\ttest-error:0.054074\ttrain-error:0.045743\n",
      "[58]\ttest-error:0.054815\ttrain-error:0.045108\n",
      "[59]\ttest-error:0.054815\ttrain-error:0.045426\n",
      "[60]\ttest-error:0.054815\ttrain-error:0.044155\n",
      "[61]\ttest-error:0.054815\ttrain-error:0.044473\n",
      "[62]\ttest-error:0.054815\ttrain-error:0.043837\n",
      "[63]\ttest-error:0.054074\ttrain-error:0.044473\n",
      "[64]\ttest-error:0.054074\ttrain-error:0.044155\n",
      "[65]\ttest-error:0.054074\ttrain-error:0.043837\n",
      "[66]\ttest-error:0.054074\ttrain-error:0.04352\n",
      "[67]\ttest-error:0.054074\ttrain-error:0.04352\n",
      "[68]\ttest-error:0.054815\ttrain-error:0.043202\n",
      "[69]\ttest-error:0.054815\ttrain-error:0.043202\n",
      "[70]\ttest-error:0.054815\ttrain-error:0.04352\n",
      "[71]\ttest-error:0.054815\ttrain-error:0.043202\n",
      "[72]\ttest-error:0.054074\ttrain-error:0.043202\n",
      "[73]\ttest-error:0.054074\ttrain-error:0.042884\n",
      "[74]\ttest-error:0.054074\ttrain-error:0.042884\n",
      "[75]\ttest-error:0.054074\ttrain-error:0.042884\n",
      "[76]\ttest-error:0.054074\ttrain-error:0.042249\n",
      "[77]\ttest-error:0.054815\ttrain-error:0.041296\n",
      "[78]\ttest-error:0.054815\ttrain-error:0.041296\n",
      "[79]\ttest-error:0.055556\ttrain-error:0.040978\n",
      "[80]\ttest-error:0.055556\ttrain-error:0.040661\n",
      "[81]\ttest-error:0.055556\ttrain-error:0.040343\n",
      "[82]\ttest-error:0.055556\ttrain-error:0.040343\n",
      "[83]\ttest-error:0.055556\ttrain-error:0.039708\n",
      "[84]\ttest-error:0.055556\ttrain-error:0.040025\n",
      "[85]\ttest-error:0.055556\ttrain-error:0.040025\n",
      "[86]\ttest-error:0.056296\ttrain-error:0.039072\n",
      "[87]\ttest-error:0.056296\ttrain-error:0.038755\n",
      "[88]\ttest-error:0.056296\ttrain-error:0.038119\n",
      "[89]\ttest-error:0.056296\ttrain-error:0.038119\n",
      "[90]\ttest-error:0.056296\ttrain-error:0.037802\n",
      "[91]\ttest-error:0.056296\ttrain-error:0.037166\n",
      "[92]\ttest-error:0.056296\ttrain-error:0.037484\n",
      "[93]\ttest-error:0.056296\ttrain-error:0.037484\n",
      "[94]\ttest-error:0.056296\ttrain-error:0.037166\n",
      "[95]\ttest-error:0.055556\ttrain-error:0.036849\n",
      "[96]\ttest-error:0.056296\ttrain-error:0.036531\n",
      "[97]\ttest-error:0.056296\ttrain-error:0.035578\n",
      "[98]\ttest-error:0.055556\ttrain-error:0.03526\n",
      "[99]\ttest-error:0.055556\ttrain-error:0.03526\n",
      "Accuracy and F1 on the test set are: 0.965 and 0.982\n",
      "Accuracy and F1 on the test set are: 0.944 and 0.971\n",
      "[[   9   71]\n",
      " [   4 1266]]\n"
     ]
    },
    {
     "data": {
      "text/plain": [
       "<matplotlib.axes._subplots.AxesSubplot at 0x1a1a9b1470>"
      ]
     },
     "execution_count": 46,
     "metadata": {},
     "output_type": "execute_result"
    },
    {
     "data": {
      "image/png": "[encoded data removed]",
      "text/plain": [
       "<Figure size 360x360 with 2 Axes>"
      ]
     },
     "metadata": {
      "needs_background": "light"
     },
     "output_type": "display_data"
    }
   ],
   "source": [
    "y = deals['give']\n",
    "X = deals[features]\n",
    "\n",
    "X_train, X_test, y_train, y_test = train_test_split(X, y, test_size=0.3, stratify=y, random_state=17)\n",
    "dtrain = xgb.DMatrix(X_train, y_train)\n",
    "dtest = xgb.DMatrix(X_test, y_test)\n",
    "\n",
    "print(\"Train dataset contains {0} rows and {1} columns\".format(dtrain.num_row(), dtrain.num_col()))\n",
    "print(\"Test dataset contains {0} rows and {1} columns\".format(dtest.num_row(), dtest.num_col()))\n",
    "\n",
    "print(\"Train mean target: \")\n",
    "print(np.mean(dtrain.get_label()))\n",
    "\n",
    "print(\"\\nTest mean target: \")\n",
    "print(np.mean(dtest.get_label()))\n",
    "\n",
    "params = {\n",
    "    'objective':'binary:logistic',\n",
    "    'max_depth': 3,\n",
    "    'silent': 1,\n",
    "    'eta': 0.2\n",
    "}\n",
    "\n",
    "num_rounds = 100\n",
    "\n",
    "xgb_model = xgb.train(params, dtrain, num_rounds)\n",
    "\n",
    "watchlist  = [(dtest,'test'), (dtrain,'train')] # native interface only\n",
    "xgb_model = xgb.train(params, dtrain, num_rounds, watchlist)\n",
    "\n",
    "preds_prob = xgb_model.predict(dtrain)\n",
    "predicted_labels = preds_prob > 0.5\n",
    "\n",
    "print(\"Accuracy and F1 on the train set are: {} and {}\".format(\n",
    "    round(accuracy_score(y_train, predicted_labels), 3),\n",
    "    round(f1_score(y_train, predicted_labels), 3)))\n",
    "\n",
    "\n",
    "preds_prob = xgb_model.predict(dtest)\n",
    "predicted_labels = preds_prob > 0.5\n",
    "\n",
    "print(\"Accuracy and F1 on the test set are: {} and {}\".format(\n",
    "    round(accuracy_score(y_test, predicted_labels), 3),\n",
    "    round(f1_score(y_test, predicted_labels), 3)))\n",
    "\n",
    "cm = confusion_matrix(y_test, predicted_labels)\n",
    "print(cm)\n",
    "\n",
    "labels = ['Not Give', 'Give']\n",
    "df_cm = pd.DataFrame(cm, index = labels, columns = labels)\n",
    "plt.figure(figsize = (5,5))\n",
    "sns.heatmap(df_cm, annot=True, fmt='d')\n"
   ]
  },
  {
   "cell_type": "code",
   "execution_count": 75,
   "metadata": {},
   "outputs": [
    {
     "name": "stdout",
     "output_type": "stream",
     "text": [
      "Accuracy and F1 on the train set are: 0.948 and 0.973\n",
      "Accuracy and F1 on the test set are: 0.946 and 0.972\n",
      "[[   8   72]\n",
      " [   1 1269]]\n"
     ]
    },
    {
     "data": {
      "text/plain": [
       "<matplotlib.axes._subplots.AxesSubplot at 0x1a1cabd9b0>"
      ]
     },
     "execution_count": 75,
     "metadata": {},
     "output_type": "execute_result"
    },
    {
     "data": {
      "image/png": "[encoded data removed]",
      "text/plain": [
       "<Figure size 360x360 with 2 Axes>"
      ]
     },
     "metadata": {
      "needs_background": "light"
     },
     "output_type": "display_data"
    }
   ],
   "source": [
    "counts = deals.groupby('give')['give'].count()\n",
    "\n",
    "xgb6 = xgb.XGBClassifier(\n",
    "    learning_rate=0.007,\n",
    "    n_estimators=1000,\n",
    "    max_depth=3,\n",
    "    min_child_weight=1,\n",
    "    gamma=0,\n",
    "    subsample=0.9,\n",
    "    colsample_bytree=0.6,\n",
    "    reg_alpha=0.005,\n",
    "    objective= 'binary:logistic',\n",
    "    nthread=4,\n",
    "    scale_pos_weight=1,\n",
    "    seed=27\n",
    "#     learning_rate=0.009,\n",
    "#     n_estimators=1000,\n",
    "#     max_depth=3,\n",
    "#     min_child_weight=3,\n",
    "#     gamma=0.4,\n",
    "#     subsample=0.8,\n",
    "#     colsample_bytree=0.8,\n",
    "#     reg_alpha=0.005,\n",
    "#     objective= 'binary:logistic',\n",
    "#     nthread=4,\n",
    "#     scale_pos_weight=counts[0]/counts[1],\n",
    "#     seed=27\n",
    ")\n",
    "\n",
    "train_X, test_X, train_y, test_y = train_test_split(X.values, y.values, test_size=0.3, stratify=y, random_state=17)\n",
    "\n",
    "xgb6.fit(train_X, train_y)\n",
    "\n",
    "predicted_labels = xgb6.predict(train_X)\n",
    "\n",
    "print(\"Accuracy and F1 on the train set are: {} and {}\".format(\n",
    "    round(accuracy_score(y_train, predicted_labels), 3),\n",
    "    round(f1_score(y_train, predicted_labels), 3)))\n",
    "\n",
    "predicted_labels = xgb6.predict(test_X)\n",
    "\n",
    "# preds_prob = xgb_model.predict(test_X)\n",
    "# predicted_labels = preds_prob > 0.5\n",
    "\n",
    "print(\"Accuracy and F1 on the test set are: {} and {}\".format(\n",
    "    round(accuracy_score(test_y, predicted_labels), 3),\n",
    "    round(f1_score(test_y, predicted_labels), 3)))\n",
    "\n",
    "cm = confusion_matrix(test_y, predicted_labels)\n",
    "print(cm)\n",
    "\n",
    "labels = ['Not Give', 'Give']\n",
    "df_cm = pd.DataFrame(cm, index = labels, columns = labels)\n",
    "plt.figure(figsize = (5,5))\n",
    "sns.heatmap(df_cm, annot=True, fmt='d')\n"
   ]
  },
  {
   "cell_type": "markdown",
   "metadata": {},
   "source": [
    "## Model assessment"
   ]
  },
  {
   "cell_type": "markdown",
   "metadata": {},
   "source": [
    "Plot options"
   ]
  },
  {
   "cell_type": "code",
   "execution_count": 76,
   "metadata": {},
   "outputs": [],
   "source": [
    "plt.rcParams[\"figure.figsize\"] = (10, 10)"
   ]
  },
  {
   "cell_type": "markdown",
   "metadata": {},
   "source": [
    "### 1. Linear score"
   ]
  },
  {
   "cell_type": "markdown",
   "metadata": {},
   "source": [
    "$$linear\\_score = 1 - \\frac{delinq}{delinq_{max}}$$"
   ]
  },
  {
   "cell_type": "markdown",
   "metadata": {},
   "source": [
    "Normalize the `delinquency`"
   ]
  },
  {
   "cell_type": "code",
   "execution_count": 77,
   "metadata": {},
   "outputs": [],
   "source": [
    "delinq_max = deals['delinq'].max()\n",
    "d = deals[(deals['model'] == 'v1')].copy()\n",
    "d['delinq_norm'] = d.apply(lambda row: 1 - row['delinq'] / delinq_max, axis=1)"
   ]
  },
  {
   "cell_type": "markdown",
   "metadata": {},
   "source": [
    "#### Random Forest Model"
   ]
  },
  {
   "cell_type": "code",
   "execution_count": 78,
   "metadata": {},
   "outputs": [
    {
     "data": {
      "text/plain": [
       "-1.8628156616570157"
      ]
     },
     "execution_count": 78,
     "metadata": {},
     "output_type": "execute_result"
    }
   ],
   "source": [
    "explained_variance_score(d['delinq_norm'], d['rating'])"
   ]
  },
  {
   "cell_type": "markdown",
   "metadata": {},
   "source": [
    "Mean squared error between normalized `delinquency` and rating in `v1` model"
   ]
  },
  {
   "cell_type": "code",
   "execution_count": 79,
   "metadata": {},
   "outputs": [
    {
     "data": {
      "text/plain": [
       "0.0628813258357735"
      ]
     },
     "execution_count": 79,
     "metadata": {},
     "output_type": "execute_result"
    }
   ],
   "source": [
    "mean_squared_error(d['delinq_norm'], d['rating'])"
   ]
  },
  {
   "cell_type": "code",
   "execution_count": null,
   "metadata": {},
   "outputs": [],
   "source": [
    "# d[d['delinq_norm'] < 0.9].count()"
   ]
  },
  {
   "cell_type": "markdown",
   "metadata": {},
   "source": [
    "Correllation between normalized `delinquency` and `v1` model `rating`"
   ]
  },
  {
   "cell_type": "code",
   "execution_count": 92,
   "metadata": {},
   "outputs": [
    {
     "data": {
      "text/plain": [
       "<matplotlib.collections.PathCollection at 0x1a1d4edda0>"
      ]
     },
     "execution_count": 92,
     "metadata": {},
     "output_type": "execute_result"
    },
    {
     "data": {
      "image/png": "[encoded data removed]",
      "text/plain": [
       "<Figure size 720x720 with 1 Axes>"
      ]
     },
     "metadata": {
      "needs_background": "light"
     },
     "output_type": "display_data"
    }
   ],
   "source": [
    "xlim(0, 1.1)\n",
    "ylim(0, 1.1)\n",
    "scatter(d['rating'], d['delinq_norm'], alpha=0.3)"
   ]
  },
  {
   "cell_type": "markdown",
   "metadata": {},
   "source": [
    "#### Model v2"
   ]
  },
  {
   "cell_type": "markdown",
   "metadata": {},
   "source": [
    "Predicting and normalyzing the `delinquency`"
   ]
  },
  {
   "cell_type": "code",
   "execution_count": 81,
   "metadata": {},
   "outputs": [],
   "source": [
    "d['delinq_predicted'] = regr.predict(d[features])\n",
    "d['delinq_predicted_norm'] = list(map(lambda row: 1 - row / delinq_max, d['delinq_predicted']))"
   ]
  },
  {
   "cell_type": "markdown",
   "metadata": {},
   "source": [
    "Mean squared error between `real` and `predicted` `delinquency`"
   ]
  },
  {
   "cell_type": "code",
   "execution_count": 82,
   "metadata": {},
   "outputs": [
    {
     "data": {
      "text/plain": [
       "0.003813900799646021"
      ]
     },
     "execution_count": 82,
     "metadata": {},
     "output_type": "execute_result"
    }
   ],
   "source": [
    "mean_squared_error(d['delinq_predicted_norm'], d['delinq_norm'])"
   ]
  },
  {
   "cell_type": "markdown",
   "metadata": {},
   "source": [
    "Correllation between normalized `real` and `predicted` `delinquency`"
   ]
  },
  {
   "cell_type": "code",
   "execution_count": 93,
   "metadata": {},
   "outputs": [
    {
     "data": {
      "text/plain": [
       "<matplotlib.collections.PathCollection at 0x1a1d5db048>"
      ]
     },
     "execution_count": 93,
     "metadata": {},
     "output_type": "execute_result"
    },
    {
     "data": {
      "image/png": "[encoded data removed]",
      "text/plain": [
       "<Figure size 720x720 with 1 Axes>"
      ]
     },
     "metadata": {
      "needs_background": "light"
     },
     "output_type": "display_data"
    }
   ],
   "source": [
    "xlim(0, 1.1)\n",
    "ylim(0, 1.1)\n",
    "scatter(d['delinq_predicted_norm'], d['delinq_norm'], alpha=0.3)"
   ]
  },
  {
   "cell_type": "code",
   "execution_count": null,
   "metadata": {},
   "outputs": [],
   "source": []
  },
  {
   "cell_type": "markdown",
   "metadata": {},
   "source": [
    "Records having big difference between real and predicted `delinquency`"
   ]
  },
  {
   "cell_type": "code",
   "execution_count": 85,
   "metadata": {
    "scrolled": false
   },
   "outputs": [],
   "source": [
    "# d[(abs(d['delinq_predicted_norm'] - d['delinq_norm']) > 0.025) & (d['outstanding'] > 0)][['wmid', 'delinq', 'credit_amount', 'outstanding', 'return_amount', 'loan_count', 'credit_amount_total', 'credit_count_total', 'return_rate', 'return_amount_rate', 'tender_credit_amount', 'credit_amount_average', 'credit_amount_to_average_ratio', 'average_repeated_loan_count', 'purpose', 'guarantee', 'address', 'recommend']]\n"
   ]
  },
  {
   "cell_type": "code",
   "execution_count": 86,
   "metadata": {
    "scrolled": false
   },
   "outputs": [],
   "source": [
    "# d[(abs(d['delinq_predicted_norm'] - d['delinq_norm']) > 0.0025) & (d['outstanding'] == 0)][['wmid', 'delinq', 'credit_amount', 'outstanding', 'return_amount', 'loan_count', 'credit_amount_total', 'credit_count_total', 'return_rate', 'return_amount_rate', 'tender_credit_amount', 'credit_amount_average', 'credit_amount_to_average_ratio', 'purpose', 'guarantee', 'address', 'recommend']]"
   ]
  }
 ],
 "metadata": {
  "kernelspec": {
   "display_name": "Python 3",
   "language": "python",
   "name": "python3"
  },
  "language_info": {
   "codemirror_mode": {
    "name": "ipython",
    "version": 3
   },
   "file_extension": ".py",
   "mimetype": "text/x-python",
   "name": "python",
   "nbconvert_exporter": "python",
   "pygments_lexer": "ipython3",
   "version": "3.7.2"
  }
 },
 "nbformat": 4,
 "nbformat_minor": 2
}
